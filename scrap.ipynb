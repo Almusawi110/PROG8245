{
 "cells": [
  {
   "cell_type": "code",
   "execution_count": 94,
   "metadata": {},
   "outputs": [],
   "source": [
    "from bs4 import BeautifulSoup\n",
    "import io\n",
    "import os\n",
    "from openai import OpenAI\n",
    "import re\n",
    "import PyPDF2\n",
    "import requests\n",
    "requests.packages.urllib3.util.ssl_.DEFAULT_CIPHERS = 'DES-CBC3-SHA'\n",
    "import json\n",
    "import csv\n",
    "from selenium import webdriver\n",
    "from selenium.webdriver.common.by import By\n",
    "from selenium.webdriver.support.ui import WebDriverWait \n",
    "from selenium.webdriver.support import expected_conditions as EC\n",
    "from dotenv import load_dotenv\n"
   ]
  },
  {
   "cell_type": "code",
   "execution_count": 95,
   "metadata": {},
   "outputs": [],
   "source": [
    "from nltk.tokenize import sent_tokenize\n",
    "import nltk\n",
    "\n",
    "# nltk.download('punkt')\n",
    "tokenizer = nltk.data.load('tokenizers/punkt/english.pickle')\n",
    "\n",
    "def get_sentences(text):\n",
    "    return sent_tokenize(text, language='english')"
   ]
  },
  {
   "cell_type": "code",
   "execution_count": 96,
   "metadata": {},
   "outputs": [],
   "source": [
    "load_dotenv()\n",
    "client = OpenAI(\n",
    "    api_key=os.environ.get(\"KEY\"),\n",
    ")\n"
   ]
  },
  {
   "cell_type": "code",
   "execution_count": 97,
   "metadata": {},
   "outputs": [],
   "source": [
    "def get_annotation(text, url):\n",
    "    # send the text and prompt to the OpenAI API and get the annotation response\n",
    "    prompt = f\"You are a helpful assistant. Classify topic, pick only one of the options: [stories, hard hearing, deaf, learning sign language, identities of deaf, fiction books, what is hearing loss, hearing implantation, loud music, hearing test, ear poisoning, Improve your English, Caring for the Deaf Patient]. You can use a combination of the URL and the text to make a decision. If the text is a page number, date, author name, date, none-english, or words that doesn't make sense, return `None` If you are not able to select only one, then use `None`. always one label:     - text: {text}     - url: {url}\"\n",
    "    response = client.chat.completions.create(\n",
    "        messages=[\n",
    "        {\n",
    "            \"role\": \"user\",\n",
    "            \"content\": prompt,\n",
    "        }\n",
    "    ],\n",
    "    model=\"gpt-4\",\n",
    "    )\n",
    "    # return the answer\n",
    "    return response.choices[0].message.content\n",
    "    # return response/\n"
   ]
  },
  {
   "cell_type": "code",
   "execution_count": 98,
   "metadata": {},
   "outputs": [],
   "source": [
    "def clean_text(string):\n",
    "    text = json.dumps(string)\n",
    "    # Remove Unicode escape sequences like \\u201c, \\u201d, etc.\n",
    "    text = re.sub(r'\\\\u[0-9A-Fa-f]{4}', '', text)\n",
    "    # Remove escaped newline and tab characters (i.e., \\\\n and \\\\t)\n",
    "    text = re.sub(r'\\\\[nt]', '', text)\n",
    "    # Replace multiple spaces, tabs, and new lines with a single space\n",
    "    cleaned_text = re.sub(r'\\s+', ' ', text).strip()\n",
    "    return json.loads(cleaned_text)"
   ]
  },
  {
   "cell_type": "code",
   "execution_count": 99,
   "metadata": {},
   "outputs": [],
   "source": [
    "def scrap_webpage(url):\n",
    "    response = requests.get(url, verify=False)\n",
    "    soup = BeautifulSoup(response.text, 'html.parser')\n",
    "    text = soup.findAll(\"p\")\n",
    "    text = [t.text for t in text]\n",
    "    text = \"\\n\".join(text)\n",
    "    return text"
   ]
  },
  {
   "cell_type": "code",
   "execution_count": 100,
   "metadata": {},
   "outputs": [],
   "source": [
    "def scrap_pdf(url):\n",
    "  print(url)\n",
    "  response = requests.get(url, stream=True, verify=False)\n",
    "  pdf_reader = PyPDF2.PdfReader(io.BytesIO(response.content))\n",
    "  all_text = \"\"\n",
    "  for page in pdf_reader.pages:\n",
    "      all_text += page.extract_text()\n",
    "  return all_text"
   ]
  },
  {
   "cell_type": "code",
   "execution_count": 101,
   "metadata": {},
   "outputs": [],
   "source": [
    "def scrape_url(url):\n",
    "  if url.endswith('.pdf'):\n",
    "    return scrap_pdf(url)\n",
    "  else:  \n",
    "    return scrap_webpage(url)"
   ]
  },
  {
   "cell_type": "code",
   "execution_count": 102,
   "metadata": {},
   "outputs": [
    {
     "name": "stdout",
     "output_type": "stream",
     "text": [
      "https://www.childrensmn.org/references/pfs/rehabpublic/sign-language-for-hearing-children.pdf\n"
     ]
    },
    {
     "name": "stderr",
     "output_type": "stream",
     "text": [
      "c:\\Users\\marya\\Documents\\Courses\\Cscn8010\\class_Notbook\\venv\\CSCN8010_classic_ml\\Lib\\site-packages\\urllib3\\connectionpool.py:1103: InsecureRequestWarning: Unverified HTTPS request is being made to host 'www.childrensmn.org'. Adding certificate verification is strongly advised. See: https://urllib3.readthedocs.io/en/latest/advanced-usage.html#tls-warnings\n",
      "  warnings.warn(\n",
      "c:\\Users\\marya\\Documents\\Courses\\Cscn8010\\class_Notbook\\venv\\CSCN8010_classic_ml\\Lib\\site-packages\\urllib3\\connectionpool.py:1103: InsecureRequestWarning: Unverified HTTPS request is being made to host 'www.slj.com'. Adding certificate verification is strongly advised. See: https://urllib3.readthedocs.io/en/latest/advanced-usage.html#tls-warnings\n",
      "  warnings.warn(\n"
     ]
    },
    {
     "name": "stdout",
     "output_type": "stream",
     "text": [
      "https://www.swarthmore.edu/sites/default/files/assets/documents/faculty-donna-jo-napoli/Fun%20published%20version%20Bilingual%20Bimodal%20Ebooks%20for%20Deaf%20Children%20Developing%20language%20and%20preliteracy%20skills.pdf\n"
     ]
    },
    {
     "name": "stderr",
     "output_type": "stream",
     "text": [
      "c:\\Users\\marya\\Documents\\Courses\\Cscn8010\\class_Notbook\\venv\\CSCN8010_classic_ml\\Lib\\site-packages\\urllib3\\connectionpool.py:1103: InsecureRequestWarning: Unverified HTTPS request is being made to host 'www.swarthmore.edu'. Adding certificate verification is strongly advised. See: https://urllib3.readthedocs.io/en/latest/advanced-usage.html#tls-warnings\n",
      "  warnings.warn(\n",
      "c:\\Users\\marya\\Documents\\Courses\\Cscn8010\\class_Notbook\\venv\\CSCN8010_classic_ml\\Lib\\site-packages\\urllib3\\connectionpool.py:1103: InsecureRequestWarning: Unverified HTTPS request is being made to host 'www.frontiersin.org'. Adding certificate verification is strongly advised. See: https://urllib3.readthedocs.io/en/latest/advanced-usage.html#tls-warnings\n",
      "  warnings.warn(\n",
      "c:\\Users\\marya\\Documents\\Courses\\Cscn8010\\class_Notbook\\venv\\CSCN8010_classic_ml\\Lib\\site-packages\\urllib3\\connectionpool.py:1103: InsecureRequestWarning: Unverified HTTPS request is being made to host 'www.scirp.org'. Adding certificate verification is strongly advised. See: https://urllib3.readthedocs.io/en/latest/advanced-usage.html#tls-warnings\n",
      "  warnings.warn(\n",
      "c:\\Users\\marya\\Documents\\Courses\\Cscn8010\\class_Notbook\\venv\\CSCN8010_classic_ml\\Lib\\site-packages\\urllib3\\connectionpool.py:1103: InsecureRequestWarning: Unverified HTTPS request is being made to host 'www.researchgate.net'. Adding certificate verification is strongly advised. See: https://urllib3.readthedocs.io/en/latest/advanced-usage.html#tls-warnings\n",
      "  warnings.warn(\n",
      "c:\\Users\\marya\\Documents\\Courses\\Cscn8010\\class_Notbook\\venv\\CSCN8010_classic_ml\\Lib\\site-packages\\urllib3\\connectionpool.py:1103: InsecureRequestWarning: Unverified HTTPS request is being made to host 'preply.com'. Adding certificate verification is strongly advised. See: https://urllib3.readthedocs.io/en/latest/advanced-usage.html#tls-warnings\n",
      "  warnings.warn(\n"
     ]
    }
   ],
   "source": [
    "url_list = [\n",
    "    \"https://www.childrensmn.org/references/pfs/rehabpublic/sign-language-for-hearing-children.pdf\",\n",
    "    \"https://www.slj.com/story/read-the-signs-deaf-experience\",\n",
    "    \"https://www.swarthmore.edu/sites/default/files/assets/documents/faculty-donna-jo-napoli/Fun%20published%20version%20Bilingual%20Bimodal%20Ebooks%20for%20Deaf%20Children%20Developing%20language%20and%20preliteracy%20skills.pdf\",\n",
    "    \"https://www.frontiersin.org/journals/psychology/articles/10.3389/fpsyg.2013.00889/full\",\n",
    "    \"https://www.scirp.org/journal/paperinformation?paperid=65497\",\n",
    "    \"https://www.researchgate.net/publication/301312097_Early_Reading_for_Young_Deaf_and_Hard_of_Hearing_Children_Alternative_Frameworks\",\n",
    "    \"https://preply.com/en/blog/22-useful-english-greetings-for-every-day/\"\n",
    "]\n",
    "for url in url_list:\n",
    "    with open('sentences.csv', 'a', encoding=\"utf-8\", newline='') as f:\n",
    "        writer = csv.writer(f)\n",
    "        cleaned_text = clean_text(scrape_url(url))\n",
    "        tokenized_text = get_sentences(cleaned_text)\n",
    "        for sentence in tokenized_text:\n",
    "            annotation = get_annotation(sentence, url)\n",
    "            writer.writerow([sentence, annotation])"
   ]
  },
  {
   "cell_type": "code",
   "execution_count": 103,
   "metadata": {},
   "outputs": [
    {
     "name": "stderr",
     "output_type": "stream",
     "text": [
      "c:\\Users\\marya\\Documents\\Courses\\Cscn8010\\class_Notbook\\venv\\CSCN8010_classic_ml\\Lib\\site-packages\\urllib3\\connectionpool.py:1103: InsecureRequestWarning: Unverified HTTPS request is being made to host 'www.childrensmn.org'. Adding certificate verification is strongly advised. See: https://urllib3.readthedocs.io/en/latest/advanced-usage.html#tls-warnings\n",
      "  warnings.warn(\n",
      "c:\\Users\\marya\\Documents\\Courses\\Cscn8010\\class_Notbook\\venv\\CSCN8010_classic_ml\\Lib\\site-packages\\urllib3\\connectionpool.py:1103: InsecureRequestWarning: Unverified HTTPS request is being made to host 'www.childrensmn.org'. Adding certificate verification is strongly advised. See: https://urllib3.readthedocs.io/en/latest/advanced-usage.html#tls-warnings\n",
      "  warnings.warn(\n",
      "c:\\Users\\marya\\Documents\\Courses\\Cscn8010\\class_Notbook\\venv\\CSCN8010_classic_ml\\Lib\\site-packages\\urllib3\\connectionpool.py:1103: InsecureRequestWarning: Unverified HTTPS request is being made to host 'www.childrensmn.org'. Adding certificate verification is strongly advised. See: https://urllib3.readthedocs.io/en/latest/advanced-usage.html#tls-warnings\n",
      "  warnings.warn(\n",
      "c:\\Users\\marya\\Documents\\Courses\\Cscn8010\\class_Notbook\\venv\\CSCN8010_classic_ml\\Lib\\site-packages\\urllib3\\connectionpool.py:1103: InsecureRequestWarning: Unverified HTTPS request is being made to host 'www.childrensmn.org'. Adding certificate verification is strongly advised. See: https://urllib3.readthedocs.io/en/latest/advanced-usage.html#tls-warnings\n",
      "  warnings.warn(\n",
      "c:\\Users\\marya\\Documents\\Courses\\Cscn8010\\class_Notbook\\venv\\CSCN8010_classic_ml\\Lib\\site-packages\\urllib3\\connectionpool.py:1103: InsecureRequestWarning: Unverified HTTPS request is being made to host 'www.childrensmn.org'. Adding certificate verification is strongly advised. See: https://urllib3.readthedocs.io/en/latest/advanced-usage.html#tls-warnings\n",
      "  warnings.warn(\n",
      "c:\\Users\\marya\\Documents\\Courses\\Cscn8010\\class_Notbook\\venv\\CSCN8010_classic_ml\\Lib\\site-packages\\urllib3\\connectionpool.py:1103: InsecureRequestWarning: Unverified HTTPS request is being made to host 'www.childrensmn.org'. Adding certificate verification is strongly advised. See: https://urllib3.readthedocs.io/en/latest/advanced-usage.html#tls-warnings\n",
      "  warnings.warn(\n",
      "c:\\Users\\marya\\Documents\\Courses\\Cscn8010\\class_Notbook\\venv\\CSCN8010_classic_ml\\Lib\\site-packages\\urllib3\\connectionpool.py:1103: InsecureRequestWarning: Unverified HTTPS request is being made to host 'www.childrensmn.org'. Adding certificate verification is strongly advised. See: https://urllib3.readthedocs.io/en/latest/advanced-usage.html#tls-warnings\n",
      "  warnings.warn(\n",
      "c:\\Users\\marya\\Documents\\Courses\\Cscn8010\\class_Notbook\\venv\\CSCN8010_classic_ml\\Lib\\site-packages\\urllib3\\connectionpool.py:1103: InsecureRequestWarning: Unverified HTTPS request is being made to host 'www.childrensmn.org'. Adding certificate verification is strongly advised. See: https://urllib3.readthedocs.io/en/latest/advanced-usage.html#tls-warnings\n",
      "  warnings.warn(\n",
      "c:\\Users\\marya\\Documents\\Courses\\Cscn8010\\class_Notbook\\venv\\CSCN8010_classic_ml\\Lib\\site-packages\\urllib3\\connectionpool.py:1103: InsecureRequestWarning: Unverified HTTPS request is being made to host 'www.childrensmn.org'. Adding certificate verification is strongly advised. See: https://urllib3.readthedocs.io/en/latest/advanced-usage.html#tls-warnings\n",
      "  warnings.warn(\n",
      "c:\\Users\\marya\\Documents\\Courses\\Cscn8010\\class_Notbook\\venv\\CSCN8010_classic_ml\\Lib\\site-packages\\urllib3\\connectionpool.py:1103: InsecureRequestWarning: Unverified HTTPS request is being made to host 'www.childrensmn.org'. Adding certificate verification is strongly advised. See: https://urllib3.readthedocs.io/en/latest/advanced-usage.html#tls-warnings\n",
      "  warnings.warn(\n",
      "c:\\Users\\marya\\Documents\\Courses\\Cscn8010\\class_Notbook\\venv\\CSCN8010_classic_ml\\Lib\\site-packages\\urllib3\\connectionpool.py:1103: InsecureRequestWarning: Unverified HTTPS request is being made to host 'www.childrensmn.org'. Adding certificate verification is strongly advised. See: https://urllib3.readthedocs.io/en/latest/advanced-usage.html#tls-warnings\n",
      "  warnings.warn(\n",
      "c:\\Users\\marya\\Documents\\Courses\\Cscn8010\\class_Notbook\\venv\\CSCN8010_classic_ml\\Lib\\site-packages\\urllib3\\connectionpool.py:1103: InsecureRequestWarning: Unverified HTTPS request is being made to host 'www.childrensmn.org'. Adding certificate verification is strongly advised. See: https://urllib3.readthedocs.io/en/latest/advanced-usage.html#tls-warnings\n",
      "  warnings.warn(\n",
      "c:\\Users\\marya\\Documents\\Courses\\Cscn8010\\class_Notbook\\venv\\CSCN8010_classic_ml\\Lib\\site-packages\\urllib3\\connectionpool.py:1103: InsecureRequestWarning: Unverified HTTPS request is being made to host 'www.childrensmn.org'. Adding certificate verification is strongly advised. See: https://urllib3.readthedocs.io/en/latest/advanced-usage.html#tls-warnings\n",
      "  warnings.warn(\n",
      "c:\\Users\\marya\\Documents\\Courses\\Cscn8010\\class_Notbook\\venv\\CSCN8010_classic_ml\\Lib\\site-packages\\urllib3\\connectionpool.py:1103: InsecureRequestWarning: Unverified HTTPS request is being made to host 'www.childrensmn.org'. Adding certificate verification is strongly advised. See: https://urllib3.readthedocs.io/en/latest/advanced-usage.html#tls-warnings\n",
      "  warnings.warn(\n",
      "c:\\Users\\marya\\Documents\\Courses\\Cscn8010\\class_Notbook\\venv\\CSCN8010_classic_ml\\Lib\\site-packages\\urllib3\\connectionpool.py:1103: InsecureRequestWarning: Unverified HTTPS request is being made to host 'www.childrensmn.org'. Adding certificate verification is strongly advised. See: https://urllib3.readthedocs.io/en/latest/advanced-usage.html#tls-warnings\n",
      "  warnings.warn(\n",
      "c:\\Users\\marya\\Documents\\Courses\\Cscn8010\\class_Notbook\\venv\\CSCN8010_classic_ml\\Lib\\site-packages\\urllib3\\connectionpool.py:1103: InsecureRequestWarning: Unverified HTTPS request is being made to host 'www.childrensmn.org'. Adding certificate verification is strongly advised. See: https://urllib3.readthedocs.io/en/latest/advanced-usage.html#tls-warnings\n",
      "  warnings.warn(\n"
     ]
    }
   ],
   "source": [
    "\n",
    "driver = webdriver.Chrome()\n",
    "driver.get(\"https://www.childrensmn.org/search?q=deaf&site=\") \n",
    "# if the page is unsecure, press button with id=\"details-button\"\n",
    "# then press button with id=\"proceed-link\"\n",
    "# add if statement check check if the page is secure or not by checking if id details-button exists\n",
    "if len(driver.find_elements(by=\"id\", value=\"details-button\")) > 0:\n",
    "  driver.find_element(by=\"id\", value=\"details-button\").click()\n",
    "  driver.find_element(by=\"id\", value=\"proceed-link\").click()\n",
    "driver.find_element(By.XPATH,value=\"/html/body/div[1]/div/main/div/form/div/div/div/div[7]/a\").click()\n",
    "wait = WebDriverWait(driver, 20)\n",
    "element = wait.until(EC.element_to_be_clickable((By.CLASS_NAME, 'result-link')))\n",
    "page_source = driver.page_source\n",
    "driver.quit()\n",
    "\n",
    "soup = BeautifulSoup(page_source, 'html.parser')\n",
    "box = soup.find(name=\"div\", id=\"search-results\")\n",
    "links = box.find_all('a')\n",
    "\n",
    "for url in links:\n",
    "    title = url.get('title')\n",
    "    link = url.get('href')\n",
    "    with open('sentences.csv', 'a', encoding=\"utf-8\", newline='') as f:\n",
    "      writer = csv.writer(f)\n",
    "      cleaned_text = clean_text(scrape_url(link))\n",
    "      tokenized_text = get_sentences(cleaned_text)\n",
    "      for sentence in tokenized_text:\n",
    "        annotation = get_annotation(sentence, link)\n",
    "        writer.writerow([sentence, annotation])\n"
   ]
  }
 ],
 "metadata": {
  "kernelspec": {
   "display_name": "CSCN8010_classic_ml",
   "language": "python",
   "name": "cscn8010_classic_ml"
  },
  "language_info": {
   "codemirror_mode": {
    "name": "ipython",
    "version": 3
   },
   "file_extension": ".py",
   "mimetype": "text/x-python",
   "name": "python",
   "nbconvert_exporter": "python",
   "pygments_lexer": "ipython3",
   "version": "3.11.7"
  }
 },
 "nbformat": 4,
 "nbformat_minor": 2
}
